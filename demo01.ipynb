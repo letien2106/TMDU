{
  "nbformat": 4,
  "nbformat_minor": 0,
  "metadata": {
    "colab": {
      "name": "demo01",
      "provenance": [],
      "collapsed_sections": [],
      "toc_visible": true,
      "include_colab_link": true
    },
    "kernelspec": {
      "display_name": "Python 3",
      "name": "python3"
    }
  },
  "cells": [
    {
      "cell_type": "markdown",
      "metadata": {
        "id": "view-in-github",
        "colab_type": "text"
      },
      "source": [
        "<a href=\"https://colab.research.google.com/github/letien2106/TMDU/blob/main/demo01.ipynb\" target=\"_parent\"><img src=\"https://colab.research.google.com/assets/colab-badge.svg\" alt=\"Open In Colab\"/></a>"
      ]
    },
    {
      "cell_type": "code",
      "metadata": {
        "id": "vTUNmvv71CW5",
        "colab": {
          "base_uri": "https://localhost:8080/"
        },
        "outputId": "398f387d-ab3f-465a-fd05-81f93ba44b74"
      },
      "source": [
        "!git clone https://github.com/letien2106/TMDU.git"
      ],
      "execution_count": 1,
      "outputs": [
        {
          "output_type": "stream",
          "text": [
            "Cloning into 'TMDU'...\n",
            "remote: Enumerating objects: 12, done.\u001b[K\n",
            "remote: Counting objects: 100% (12/12), done.\u001b[K\n",
            "remote: Compressing objects: 100% (10/10), done.\u001b[K\n",
            "remote: Total 12 (delta 2), reused 3 (delta 0), pack-reused 0\u001b[K\n",
            "Unpacking objects: 100% (12/12), done.\n"
          ],
          "name": "stdout"
        }
      ]
    },
    {
      "cell_type": "code",
      "metadata": {
        "id": "dZCb6DaX1C_1"
      },
      "source": [
        "import pandas as pd\n",
        "import numpy as np\n",
        "import matplotlib.pyplot as plt\n",
        "import seaborn as sns"
      ],
      "execution_count": null,
      "outputs": []
    },
    {
      "cell_type": "code",
      "metadata": {
        "id": "lWHWfw3qfV3f"
      },
      "source": [
        "df = pd.read_excel('/content/Vietnam-Macroeconomic-Data-Fix.xls')"
      ],
      "execution_count": null,
      "outputs": []
    },
    {
      "cell_type": "code",
      "metadata": {
        "id": "dPQaECqWfhex"
      },
      "source": [
        "a= df = df.T"
      ],
      "execution_count": null,
      "outputs": []
    },
    {
      "cell_type": "code",
      "metadata": {
        "id": "kbCCoG58kPPR"
      },
      "source": [
        "df = df.rename(columns={'index': 'Year',\n",
        "                        0: 'GDP',\n",
        "                        1: 'Unemployment'})"
      ],
      "execution_count": null,
      "outputs": []
    },
    {
      "cell_type": "code",
      "metadata": {
        "id": "oqd8UPKZmu5S"
      },
      "source": [
        "df = df.reset_index().iloc[1:].rename(columns={'index':'Year'})"
      ],
      "execution_count": null,
      "outputs": []
    },
    {
      "cell_type": "code",
      "metadata": {
        "id": "K7u9f3MVWO-J",
        "colab": {
          "base_uri": "https://localhost:8080/",
          "height": 514
        },
        "outputId": "f961d0da-2bc4-4e18-9202-e8a57678bbb7"
      },
      "source": [
        "df.replace('no data', np.NaN)\n",
        "df.head(15)"
      ],
      "execution_count": null,
      "outputs": [
        {
          "output_type": "execute_result",
          "data": {
            "text/html": [
              "<div>\n",
              "<style scoped>\n",
              "    .dataframe tbody tr th:only-of-type {\n",
              "        vertical-align: middle;\n",
              "    }\n",
              "\n",
              "    .dataframe tbody tr th {\n",
              "        vertical-align: top;\n",
              "    }\n",
              "\n",
              "    .dataframe thead th {\n",
              "        text-align: right;\n",
              "    }\n",
              "</style>\n",
              "<table border=\"1\" class=\"dataframe\">\n",
              "  <thead>\n",
              "    <tr style=\"text-align: right;\">\n",
              "      <th></th>\n",
              "      <th>Year</th>\n",
              "      <th>GDP</th>\n",
              "      <th>Unemployment</th>\n",
              "    </tr>\n",
              "  </thead>\n",
              "  <tbody>\n",
              "    <tr>\n",
              "      <th>1</th>\n",
              "      <td>1980</td>\n",
              "      <td>27.847</td>\n",
              "      <td>no data</td>\n",
              "    </tr>\n",
              "    <tr>\n",
              "      <th>2</th>\n",
              "      <td>1981</td>\n",
              "      <td>13.875</td>\n",
              "      <td>no data</td>\n",
              "    </tr>\n",
              "    <tr>\n",
              "      <th>3</th>\n",
              "      <td>1982</td>\n",
              "      <td>18.405</td>\n",
              "      <td>no data</td>\n",
              "    </tr>\n",
              "    <tr>\n",
              "      <th>4</th>\n",
              "      <td>1983</td>\n",
              "      <td>27.726</td>\n",
              "      <td>no data</td>\n",
              "    </tr>\n",
              "    <tr>\n",
              "      <th>5</th>\n",
              "      <td>1984</td>\n",
              "      <td>48.177</td>\n",
              "      <td>no data</td>\n",
              "    </tr>\n",
              "    <tr>\n",
              "      <th>6</th>\n",
              "      <td>1985</td>\n",
              "      <td>14.999</td>\n",
              "      <td>no data</td>\n",
              "    </tr>\n",
              "    <tr>\n",
              "      <th>7</th>\n",
              "      <td>1986</td>\n",
              "      <td>33.873</td>\n",
              "      <td>no data</td>\n",
              "    </tr>\n",
              "    <tr>\n",
              "      <th>8</th>\n",
              "      <td>1987</td>\n",
              "      <td>42.045</td>\n",
              "      <td>no data</td>\n",
              "    </tr>\n",
              "    <tr>\n",
              "      <th>9</th>\n",
              "      <td>1988</td>\n",
              "      <td>23.234</td>\n",
              "      <td>no data</td>\n",
              "    </tr>\n",
              "    <tr>\n",
              "      <th>10</th>\n",
              "      <td>1989</td>\n",
              "      <td>6.293</td>\n",
              "      <td>no data</td>\n",
              "    </tr>\n",
              "    <tr>\n",
              "      <th>11</th>\n",
              "      <td>1990</td>\n",
              "      <td>6.472</td>\n",
              "      <td>12.3</td>\n",
              "    </tr>\n",
              "    <tr>\n",
              "      <th>12</th>\n",
              "      <td>1991</td>\n",
              "      <td>7.642</td>\n",
              "      <td>10.4</td>\n",
              "    </tr>\n",
              "    <tr>\n",
              "      <th>13</th>\n",
              "      <td>1992</td>\n",
              "      <td>9.867</td>\n",
              "      <td>11</td>\n",
              "    </tr>\n",
              "    <tr>\n",
              "      <th>14</th>\n",
              "      <td>1993</td>\n",
              "      <td>13.181</td>\n",
              "      <td>10.6</td>\n",
              "    </tr>\n",
              "    <tr>\n",
              "      <th>15</th>\n",
              "      <td>1994</td>\n",
              "      <td>16.312</td>\n",
              "      <td>10.3</td>\n",
              "    </tr>\n",
              "  </tbody>\n",
              "</table>\n",
              "</div>"
            ],
            "text/plain": [
              "    Year     GDP Unemployment\n",
              "1   1980  27.847      no data\n",
              "2   1981  13.875      no data\n",
              "3   1982  18.405      no data\n",
              "4   1983  27.726      no data\n",
              "5   1984  48.177      no data\n",
              "6   1985  14.999      no data\n",
              "7   1986  33.873      no data\n",
              "8   1987  42.045      no data\n",
              "9   1988  23.234      no data\n",
              "10  1989   6.293      no data\n",
              "11  1990   6.472         12.3\n",
              "12  1991   7.642         10.4\n",
              "13  1992   9.867           11\n",
              "14  1993  13.181         10.6\n",
              "15  1994  16.312         10.3"
            ]
          },
          "metadata": {
            "tags": []
          },
          "execution_count": 8
        }
      ]
    },
    {
      "cell_type": "code",
      "metadata": {
        "id": "vo3a3LMsnWYB"
      },
      "source": [
        "year = df['Year'].iloc[:10]"
      ],
      "execution_count": null,
      "outputs": []
    },
    {
      "cell_type": "code",
      "metadata": {
        "colab": {
          "base_uri": "https://localhost:8080/"
        },
        "id": "CYyJaRmQnlQ7",
        "outputId": "795e01f1-6627-4d02-adb8-2e9f095787ca"
      },
      "source": [
        "year"
      ],
      "execution_count": null,
      "outputs": [
        {
          "output_type": "execute_result",
          "data": {
            "text/plain": [
              "1     1980\n",
              "2     1981\n",
              "3     1982\n",
              "4     1983\n",
              "5     1984\n",
              "6     1985\n",
              "7     1986\n",
              "8     1987\n",
              "9     1988\n",
              "10    1989\n",
              "Name: Year, dtype: object"
            ]
          },
          "metadata": {
            "tags": []
          },
          "execution_count": 10
        }
      ]
    },
    {
      "cell_type": "code",
      "metadata": {
        "colab": {
          "base_uri": "https://localhost:8080/"
        },
        "id": "1UykKWICWp1T",
        "outputId": "8572095b-5245-4d7b-ce62-403516cd3928"
      },
      "source": [
        "df.info()"
      ],
      "execution_count": null,
      "outputs": [
        {
          "output_type": "stream",
          "text": [
            "<class 'pandas.core.frame.DataFrame'>\n",
            "RangeIndex: 39 entries, 1 to 39\n",
            "Data columns (total 3 columns):\n",
            " #   Column        Non-Null Count  Dtype \n",
            "---  ------        --------------  ----- \n",
            " 0   Year          39 non-null     object\n",
            " 1   GDP           39 non-null     object\n",
            " 2   Unemployment  39 non-null     object\n",
            "dtypes: object(3)\n",
            "memory usage: 1.0+ KB\n"
          ],
          "name": "stdout"
        }
      ]
    },
    {
      "cell_type": "markdown",
      "metadata": {
        "id": "u0ZU_BJvSOQs"
      },
      "source": [
        "# Feature Engineering"
      ]
    },
    {
      "cell_type": "markdown",
      "metadata": {
        "id": "SXOlcc5BcFJO"
      },
      "source": [
        "    Thêm thuộc tính bằng Z-score:\n",
        "    - z = (X - X.mean())/std"
      ]
    },
    {
      "cell_type": "code",
      "metadata": {
        "colab": {
          "base_uri": "https://localhost:8080/"
        },
        "id": "nQQ1H1DHcE0y",
        "outputId": "9f56c0c7-177c-45e5-8906-c1c576b9b039"
      },
      "source": [
        "from sklearn.preprocessing import StandardScaler\n",
        "\n",
        "ss = StandardScaler().fit(df[['GDP']])\n",
        "df['GDP_Zscore'] = ss.transform(df[['GDP']])\n",
        "print(df.head())"
      ],
      "execution_count": null,
      "outputs": [
        {
          "output_type": "stream",
          "text": [
            "   Year     GDP Unemployment  GDP_Zscore\n",
            "1  1980  27.847      no data   -0.602850\n",
            "2  1981  13.875      no data   -0.825514\n",
            "3  1982  18.405      no data   -0.753322\n",
            "4  1983  27.726      no data   -0.604779\n",
            "5  1984  48.177      no data   -0.278863\n"
          ],
          "name": "stdout"
        }
      ]
    },
    {
      "cell_type": "markdown",
      "metadata": {
        "id": "b7IFdfbFdLyY"
      },
      "source": [
        "    Thêm feature bằng Min-Max scaling:\n",
        "    - X_scaled = (X - [X.min()/(X.max() - X.min())])"
      ]
    },
    {
      "cell_type": "code",
      "metadata": {
        "colab": {
          "base_uri": "https://localhost:8080/"
        },
        "id": "zY3TeE2Rb6tS",
        "outputId": "3c864fc4-aad3-41a1-aa04-6397ebc35218"
      },
      "source": [
        "from sklearn.preprocessing import MinMaxScaler\n",
        "\n",
        "mms = MinMaxScaler().fit(df[['GDP']])\n",
        "df['GDP_MinMax'] = mms.transform(df[['GDP']])\n",
        "print(df.head())"
      ],
      "execution_count": null,
      "outputs": [
        {
          "output_type": "stream",
          "text": [
            "   Year     GDP Unemployment  GDP_Zscore  GDP_MinMax\n",
            "1  1980  27.847      no data   -0.602850    0.110515\n",
            "2  1981  13.875      no data   -0.825514    0.038875\n",
            "3  1982  18.405      no data   -0.753322    0.062102\n",
            "4  1983  27.726      no data   -0.604779    0.109894\n",
            "5  1984  48.177      no data   -0.278863    0.214753\n"
          ],
          "name": "stdout"
        }
      ]
    },
    {
      "cell_type": "markdown",
      "metadata": {
        "id": "Zi8U32CLfGE5"
      },
      "source": [
        "    Thêm tính năng bằng Robust scaling:\n",
        "    - X_scaled = (X - X.median)/IQR"
      ]
    },
    {
      "cell_type": "code",
      "metadata": {
        "colab": {
          "base_uri": "https://localhost:8080/"
        },
        "id": "c5lBjbzrdvhY",
        "outputId": "2e32481c-6ee8-4fc8-e1dd-2ca8d0304fb9"
      },
      "source": [
        "from sklearn.preprocessing import RobustScaler\n",
        "\n",
        "rs = RobustScaler().fit(df[['GDP']])\n",
        "df['GDP_Robut'] = rs.transform(df[['GDP']])\n",
        "print(df.head())"
      ],
      "execution_count": null,
      "outputs": [
        {
          "output_type": "stream",
          "text": [
            "   Year     GDP Unemployment  GDP_Zscore  GDP_MinMax  GDP_Robut\n",
            "1  1980  27.847      no data   -0.602850    0.110515  -0.077320\n",
            "2  1981  13.875      no data   -0.825514    0.038875  -0.256597\n",
            "3  1982  18.405      no data   -0.753322    0.062102  -0.198472\n",
            "4  1983  27.726      no data   -0.604779    0.109894  -0.078873\n",
            "5  1984  48.177      no data   -0.278863    0.214753   0.183536\n"
          ],
          "name": "stdout"
        }
      ]
    },
    {
      "cell_type": "code",
      "metadata": {
        "colab": {
          "base_uri": "https://localhost:8080/",
          "height": 514
        },
        "id": "2o-7bjIQeKGn",
        "outputId": "ffe72a25-caaf-4208-fb55-c3a53f9ba6ce"
      },
      "source": [
        "df.head(15)"
      ],
      "execution_count": null,
      "outputs": [
        {
          "output_type": "execute_result",
          "data": {
            "text/html": [
              "<div>\n",
              "<style scoped>\n",
              "    .dataframe tbody tr th:only-of-type {\n",
              "        vertical-align: middle;\n",
              "    }\n",
              "\n",
              "    .dataframe tbody tr th {\n",
              "        vertical-align: top;\n",
              "    }\n",
              "\n",
              "    .dataframe thead th {\n",
              "        text-align: right;\n",
              "    }\n",
              "</style>\n",
              "<table border=\"1\" class=\"dataframe\">\n",
              "  <thead>\n",
              "    <tr style=\"text-align: right;\">\n",
              "      <th></th>\n",
              "      <th>Year</th>\n",
              "      <th>GDP</th>\n",
              "      <th>Unemployment</th>\n",
              "      <th>GDP_Zscore</th>\n",
              "      <th>GDP_MinMax</th>\n",
              "      <th>GDP_Robut</th>\n",
              "    </tr>\n",
              "  </thead>\n",
              "  <tbody>\n",
              "    <tr>\n",
              "      <th>1</th>\n",
              "      <td>1980</td>\n",
              "      <td>27.847</td>\n",
              "      <td>no data</td>\n",
              "      <td>-0.602850</td>\n",
              "      <td>0.110515</td>\n",
              "      <td>-0.077320</td>\n",
              "    </tr>\n",
              "    <tr>\n",
              "      <th>2</th>\n",
              "      <td>1981</td>\n",
              "      <td>13.875</td>\n",
              "      <td>no data</td>\n",
              "      <td>-0.825514</td>\n",
              "      <td>0.038875</td>\n",
              "      <td>-0.256597</td>\n",
              "    </tr>\n",
              "    <tr>\n",
              "      <th>3</th>\n",
              "      <td>1982</td>\n",
              "      <td>18.405</td>\n",
              "      <td>no data</td>\n",
              "      <td>-0.753322</td>\n",
              "      <td>0.062102</td>\n",
              "      <td>-0.198472</td>\n",
              "    </tr>\n",
              "    <tr>\n",
              "      <th>4</th>\n",
              "      <td>1983</td>\n",
              "      <td>27.726</td>\n",
              "      <td>no data</td>\n",
              "      <td>-0.604779</td>\n",
              "      <td>0.109894</td>\n",
              "      <td>-0.078873</td>\n",
              "    </tr>\n",
              "    <tr>\n",
              "      <th>5</th>\n",
              "      <td>1984</td>\n",
              "      <td>48.177</td>\n",
              "      <td>no data</td>\n",
              "      <td>-0.278863</td>\n",
              "      <td>0.214753</td>\n",
              "      <td>0.183536</td>\n",
              "    </tr>\n",
              "    <tr>\n",
              "      <th>6</th>\n",
              "      <td>1985</td>\n",
              "      <td>14.999</td>\n",
              "      <td>no data</td>\n",
              "      <td>-0.807601</td>\n",
              "      <td>0.044639</td>\n",
              "      <td>-0.242175</td>\n",
              "    </tr>\n",
              "    <tr>\n",
              "      <th>7</th>\n",
              "      <td>1986</td>\n",
              "      <td>33.873</td>\n",
              "      <td>no data</td>\n",
              "      <td>-0.506817</td>\n",
              "      <td>0.141412</td>\n",
              "      <td>0.000000</td>\n",
              "    </tr>\n",
              "    <tr>\n",
              "      <th>8</th>\n",
              "      <td>1987</td>\n",
              "      <td>42.045</td>\n",
              "      <td>no data</td>\n",
              "      <td>-0.376585</td>\n",
              "      <td>0.183313</td>\n",
              "      <td>0.104856</td>\n",
              "    </tr>\n",
              "    <tr>\n",
              "      <th>9</th>\n",
              "      <td>1988</td>\n",
              "      <td>23.234</td>\n",
              "      <td>no data</td>\n",
              "      <td>-0.676365</td>\n",
              "      <td>0.086862</td>\n",
              "      <td>-0.136510</td>\n",
              "    </tr>\n",
              "    <tr>\n",
              "      <th>10</th>\n",
              "      <td>1989</td>\n",
              "      <td>6.293</td>\n",
              "      <td>no data</td>\n",
              "      <td>-0.946344</td>\n",
              "      <td>0.000000</td>\n",
              "      <td>-0.353882</td>\n",
              "    </tr>\n",
              "    <tr>\n",
              "      <th>11</th>\n",
              "      <td>1990</td>\n",
              "      <td>6.472</td>\n",
              "      <td>12.3</td>\n",
              "      <td>-0.943491</td>\n",
              "      <td>0.000918</td>\n",
              "      <td>-0.351586</td>\n",
              "    </tr>\n",
              "    <tr>\n",
              "      <th>12</th>\n",
              "      <td>1991</td>\n",
              "      <td>7.642</td>\n",
              "      <td>10.4</td>\n",
              "      <td>-0.924845</td>\n",
              "      <td>0.006917</td>\n",
              "      <td>-0.336573</td>\n",
              "    </tr>\n",
              "    <tr>\n",
              "      <th>13</th>\n",
              "      <td>1992</td>\n",
              "      <td>9.867</td>\n",
              "      <td>11</td>\n",
              "      <td>-0.889387</td>\n",
              "      <td>0.018325</td>\n",
              "      <td>-0.308024</td>\n",
              "    </tr>\n",
              "    <tr>\n",
              "      <th>14</th>\n",
              "      <td>1993</td>\n",
              "      <td>13.181</td>\n",
              "      <td>10.6</td>\n",
              "      <td>-0.836574</td>\n",
              "      <td>0.035317</td>\n",
              "      <td>-0.265502</td>\n",
              "    </tr>\n",
              "    <tr>\n",
              "      <th>15</th>\n",
              "      <td>1994</td>\n",
              "      <td>16.312</td>\n",
              "      <td>10.3</td>\n",
              "      <td>-0.786677</td>\n",
              "      <td>0.051371</td>\n",
              "      <td>-0.225327</td>\n",
              "    </tr>\n",
              "  </tbody>\n",
              "</table>\n",
              "</div>"
            ],
            "text/plain": [
              "    Year     GDP Unemployment  GDP_Zscore  GDP_MinMax  GDP_Robut\n",
              "1   1980  27.847      no data   -0.602850    0.110515  -0.077320\n",
              "2   1981  13.875      no data   -0.825514    0.038875  -0.256597\n",
              "3   1982  18.405      no data   -0.753322    0.062102  -0.198472\n",
              "4   1983  27.726      no data   -0.604779    0.109894  -0.078873\n",
              "5   1984  48.177      no data   -0.278863    0.214753   0.183536\n",
              "6   1985  14.999      no data   -0.807601    0.044639  -0.242175\n",
              "7   1986  33.873      no data   -0.506817    0.141412   0.000000\n",
              "8   1987  42.045      no data   -0.376585    0.183313   0.104856\n",
              "9   1988  23.234      no data   -0.676365    0.086862  -0.136510\n",
              "10  1989   6.293      no data   -0.946344    0.000000  -0.353882\n",
              "11  1990   6.472         12.3   -0.943491    0.000918  -0.351586\n",
              "12  1991   7.642         10.4   -0.924845    0.006917  -0.336573\n",
              "13  1992   9.867           11   -0.889387    0.018325  -0.308024\n",
              "14  1993  13.181         10.6   -0.836574    0.035317  -0.265502\n",
              "15  1994  16.312         10.3   -0.786677    0.051371  -0.225327"
            ]
          },
          "metadata": {
            "tags": []
          },
          "execution_count": 16
        }
      ]
    },
    {
      "cell_type": "code",
      "metadata": {
        "id": "cOR5GY7Rg4Xp"
      },
      "source": [
        "data = df.replace('no data', np.NaN)"
      ],
      "execution_count": null,
      "outputs": []
    },
    {
      "cell_type": "markdown",
      "metadata": {
        "id": "hdZ3W0j0hFjd"
      },
      "source": [
        "# Visualize use Tools"
      ]
    },
    {
      "cell_type": "code",
      "metadata": {
        "id": "GwLvOMuBhFje"
      },
      "source": [
        "!pip install ExploriPy"
      ],
      "execution_count": null,
      "outputs": []
    },
    {
      "cell_type": "code",
      "metadata": {
        "id": "vTW7yeTIhFjf",
        "colab": {
          "base_uri": "https://localhost:8080/"
        },
        "outputId": "f4f9d136-25ef-43a3-d3b7-f6bccdfb1115"
      },
      "source": [
        "from ExploriPy import EDA\n",
        "\n",
        "analysis = EDA(data,title='Visualize Data')"
      ],
      "execution_count": null,
      "outputs": [
        {
          "output_type": "stream",
          "text": [
            "/usr/local/lib/python3.7/dist-packages/statsmodels/tools/_testing.py:19: FutureWarning: pandas.util.testing is deprecated. Use the functions in the public API at pandas.testing instead.\n",
            "  import pandas.util.testing as tm\n",
            "0it [00:00, ?it/s]"
          ],
          "name": "stderr"
        },
        {
          "output_type": "stream",
          "text": [
            "Converting Categorical Features to String...\n"
          ],
          "name": "stdout"
        },
        {
          "output_type": "stream",
          "text": [
            "\n"
          ],
          "name": "stderr"
        }
      ]
    },
    {
      "cell_type": "code",
      "metadata": {
        "colab": {
          "base_uri": "https://localhost:8080/",
          "height": 1000
        },
        "id": "_dN6422MhFjp",
        "outputId": "c9d11fad-f9e5-4a4c-98ee-11c4ab302905"
      },
      "source": [
        "analysis.TargetAnalysis('Unemployment')"
      ],
      "execution_count": null,
      "outputs": [
        {
          "output_type": "stream",
          "text": [
            "Initiating Target Specific Analysis...\n",
            "Unemployment\n",
            "Generating Correlation Heatmap...\n"
          ],
          "name": "stdout"
        },
        {
          "output_type": "stream",
          "text": [
            " 33%|███▎      | 2/6 [00:00<00:00, 13.80it/s]"
          ],
          "name": "stderr"
        },
        {
          "output_type": "stream",
          "text": [
            "Generating Histogram...\n"
          ],
          "name": "stdout"
        },
        {
          "output_type": "stream",
          "text": [
            "100%|██████████| 6/6 [00:00<00:00, 11.29it/s]\n",
            "0it [00:00, ?it/s]\n",
            "0it [00:00, ?it/s]\n",
            "  0%|          | 0/6 [00:00<?, ?it/s]"
          ],
          "name": "stderr"
        },
        {
          "output_type": "stream",
          "text": [
            "Performing ANOVA...\n",
            "Calculate the Target Distributions...\n",
            "Generating Distribution Charts...\n"
          ],
          "name": "stdout"
        },
        {
          "output_type": "stream",
          "text": [
            "100%|██████████| 6/6 [00:01<00:00,  3.89it/s]\n"
          ],
          "name": "stderr"
        },
        {
          "output_type": "display_data",
          "data": {
            "image/png": "[encoded data removed]",
            "text/plain": [
              "<Figure size 432x288 with 1 Axes>"
            ]
          },
          "metadata": {
            "tags": [],
            "needs_background": "light"
          }
        },
        {
          "output_type": "display_data",
          "data": {
            "image/png": "[encoded data removed]",
            "text/plain": [
              "<Figure size 432x288 with 1 Axes>"
            ]
          },
          "metadata": {
            "tags": [],
            "needs_background": "light"
          }
        },
        {
          "output_type": "display_data",
          "data": {
            "image/png": "[encoded data removed]",
            "text/plain": [
              "<Figure size 432x288 with 1 Axes>"
            ]
          },
          "metadata": {
            "tags": [],
            "needs_background": "light"
          }
        },
        {
          "output_type": "display_data",
          "data": {
            "image/png": "[encoded data removed]",
            "text/plain": [
              "<Figure size 432x288 with 1 Axes>"
            ]
          },
          "metadata": {
            "tags": [],
            "needs_background": "light"
          }
        },
        {
          "output_type": "display_data",
          "data": {
            "image/png": "[encoded data removed]",
            "text/plain": [
              "<Figure size 432x288 with 1 Axes>"
            ]
          },
          "metadata": {
            "tags": [],
            "needs_background": "light"
          }
        },
        {
          "output_type": "display_data",
          "data": {
            "image/png": "[encoded data removed]",
            "text/plain": [
              "<Figure size 432x288 with 1 Axes>"
            ]
          },
          "metadata": {
            "tags": [],
            "needs_background": "light"
          }
        },
        {
          "output_type": "display_data",
          "data": {
            "image/png": "[encoded data removed]",
            "text/plain": [
              "<Figure size 432x288 with 1 Axes>"
            ]
          },
          "metadata": {
            "tags": [],
            "needs_background": "light"
          }
        },
        {
          "output_type": "display_data",
          "data": {
            "image/png": "[encoded data removed]",
            "text/plain": [
              "<Figure size 432x288 with 1 Axes>"
            ]
          },
          "metadata": {
            "tags": [],
            "needs_background": "light"
          }
        },
        {
          "output_type": "display_data",
          "data": {
            "image/png": "[encoded data removed]",
            "text/plain": [
              "<Figure size 432x288 with 1 Axes>"
            ]
          },
          "metadata": {
            "tags": [],
            "needs_background": "light"
          }
        },
        {
          "output_type": "display_data",
          "data": {
            "image/png": "[encoded data removed]",
            "text/plain": [
              "<Figure size 432x288 with 1 Axes>"
            ]
          },
          "metadata": {
            "tags": [],
            "needs_background": "light"
          }
        },
        {
          "output_type": "display_data",
          "data": {
            "image/png": "[encoded data removed]",
            "text/plain": [
              "<Figure size 432x288 with 1 Axes>"
            ]
          },
          "metadata": {
            "tags": [],
            "needs_background": "light"
          }
        },
        {
          "output_type": "display_data",
          "data": {
            "image/png": "[encoded data removed]",
            "text/plain": [
              "<Figure size 432x288 with 1 Axes>"
            ]
          },
          "metadata": {
            "tags": [],
            "needs_background": "light"
          }
        },
        {
          "output_type": "display_data",
          "data": {
            "image/png": "[encoded data removed]",
            "text/plain": [
              "<Figure size 432x288 with 1 Axes>"
            ]
          },
          "metadata": {
            "tags": [],
            "needs_background": "light"
          }
        },
        {
          "output_type": "display_data",
          "data": {
            "image/png": "[encoded data removed]",
            "text/plain": [
              "<Figure size 432x288 with 1 Axes>"
            ]
          },
          "metadata": {
            "tags": [],
            "needs_background": "light"
          }
        },
        {
          "output_type": "display_data",
          "data": {
            "image/png": "[encoded data removed]",
            "text/plain": [
              "<Figure size 432x288 with 1 Axes>"
            ]
          },
          "metadata": {
            "tags": [],
            "needs_background": "light"
          }
        },
        {
          "output_type": "display_data",
          "data": {
            "image/png": "[encoded data removed]",
            "text/plain": [
              "<Figure size 432x288 with 1 Axes>"
            ]
          },
          "metadata": {
            "tags": [],
            "needs_background": "light"
          }
        },
        {
          "output_type": "display_data",
          "data": {
            "image/png": "[encoded data removed]",
            "text/plain": [
              "<Figure size 432x288 with 1 Axes>"
            ]
          },
          "metadata": {
            "tags": [],
            "needs_background": "light"
          }
        }
      ]
    },
    {
      "cell_type": "code",
      "metadata": {
        "colab": {
          "base_uri": "https://localhost:8080/",
          "height": 306
        },
        "id": "82wIbxC6_Ey8",
        "outputId": "60c0b402-10c3-4eb3-a5b9-969cdd1d247a"
      },
      "source": [
        "a.plot(figsize=(14,7))"
      ],
      "execution_count": null,
      "outputs": [
        {
          "output_type": "error",
          "ename": "TypeError",
          "evalue": "ignored",
          "traceback": [
            "\u001b[0;31m---------------------------------------------------------------------------\u001b[0m",
            "\u001b[0;31mTypeError\u001b[0m                                 Traceback (most recent call last)",
            "\u001b[0;32m<ipython-input-57-6c5f1bbebd24>\u001b[0m in \u001b[0;36m<module>\u001b[0;34m()\u001b[0m\n\u001b[0;32m----> 1\u001b[0;31m \u001b[0ma\u001b[0m\u001b[0;34m.\u001b[0m\u001b[0mplot\u001b[0m\u001b[0;34m(\u001b[0m\u001b[0mfigsize\u001b[0m\u001b[0;34m=\u001b[0m\u001b[0;34m(\u001b[0m\u001b[0;36m14\u001b[0m\u001b[0;34m,\u001b[0m\u001b[0;36m7\u001b[0m\u001b[0;34m)\u001b[0m\u001b[0;34m)\u001b[0m\u001b[0;34m\u001b[0m\u001b[0;34m\u001b[0m\u001b[0m\n\u001b[0m",
            "\u001b[0;32m/usr/local/lib/python3.7/dist-packages/pandas/plotting/_core.py\u001b[0m in \u001b[0;36m__call__\u001b[0;34m(self, *args, **kwargs)\u001b[0m\n\u001b[1;32m    947\u001b[0m                     \u001b[0mdata\u001b[0m\u001b[0;34m.\u001b[0m\u001b[0mcolumns\u001b[0m \u001b[0;34m=\u001b[0m \u001b[0mlabel_name\u001b[0m\u001b[0;34m\u001b[0m\u001b[0;34m\u001b[0m\u001b[0m\n\u001b[1;32m    948\u001b[0m \u001b[0;34m\u001b[0m\u001b[0m\n\u001b[0;32m--> 949\u001b[0;31m         \u001b[0;32mreturn\u001b[0m \u001b[0mplot_backend\u001b[0m\u001b[0;34m.\u001b[0m\u001b[0mplot\u001b[0m\u001b[0;34m(\u001b[0m\u001b[0mdata\u001b[0m\u001b[0;34m,\u001b[0m \u001b[0mkind\u001b[0m\u001b[0;34m=\u001b[0m\u001b[0mkind\u001b[0m\u001b[0;34m,\u001b[0m \u001b[0;34m**\u001b[0m\u001b[0mkwargs\u001b[0m\u001b[0;34m)\u001b[0m\u001b[0;34m\u001b[0m\u001b[0;34m\u001b[0m\u001b[0m\n\u001b[0m\u001b[1;32m    950\u001b[0m \u001b[0;34m\u001b[0m\u001b[0m\n\u001b[1;32m    951\u001b[0m     \u001b[0m__call__\u001b[0m\u001b[0;34m.\u001b[0m\u001b[0m__doc__\u001b[0m \u001b[0;34m=\u001b[0m \u001b[0m__doc__\u001b[0m\u001b[0;34m\u001b[0m\u001b[0;34m\u001b[0m\u001b[0m\n",
            "\u001b[0;32m/usr/local/lib/python3.7/dist-packages/pandas/plotting/_matplotlib/__init__.py\u001b[0m in \u001b[0;36mplot\u001b[0;34m(data, kind, **kwargs)\u001b[0m\n\u001b[1;32m     59\u001b[0m             \u001b[0mkwargs\u001b[0m\u001b[0;34m[\u001b[0m\u001b[0;34m\"ax\"\u001b[0m\u001b[0;34m]\u001b[0m \u001b[0;34m=\u001b[0m \u001b[0mgetattr\u001b[0m\u001b[0;34m(\u001b[0m\u001b[0max\u001b[0m\u001b[0;34m,\u001b[0m \u001b[0;34m\"left_ax\"\u001b[0m\u001b[0;34m,\u001b[0m \u001b[0max\u001b[0m\u001b[0;34m)\u001b[0m\u001b[0;34m\u001b[0m\u001b[0;34m\u001b[0m\u001b[0m\n\u001b[1;32m     60\u001b[0m     \u001b[0mplot_obj\u001b[0m \u001b[0;34m=\u001b[0m \u001b[0mPLOT_CLASSES\u001b[0m\u001b[0;34m[\u001b[0m\u001b[0mkind\u001b[0m\u001b[0;34m]\u001b[0m\u001b[0;34m(\u001b[0m\u001b[0mdata\u001b[0m\u001b[0;34m,\u001b[0m \u001b[0;34m**\u001b[0m\u001b[0mkwargs\u001b[0m\u001b[0;34m)\u001b[0m\u001b[0;34m\u001b[0m\u001b[0;34m\u001b[0m\u001b[0m\n\u001b[0;32m---> 61\u001b[0;31m     \u001b[0mplot_obj\u001b[0m\u001b[0;34m.\u001b[0m\u001b[0mgenerate\u001b[0m\u001b[0;34m(\u001b[0m\u001b[0;34m)\u001b[0m\u001b[0;34m\u001b[0m\u001b[0;34m\u001b[0m\u001b[0m\n\u001b[0m\u001b[1;32m     62\u001b[0m     \u001b[0mplot_obj\u001b[0m\u001b[0;34m.\u001b[0m\u001b[0mdraw\u001b[0m\u001b[0;34m(\u001b[0m\u001b[0;34m)\u001b[0m\u001b[0;34m\u001b[0m\u001b[0;34m\u001b[0m\u001b[0m\n\u001b[1;32m     63\u001b[0m     \u001b[0;32mreturn\u001b[0m \u001b[0mplot_obj\u001b[0m\u001b[0;34m.\u001b[0m\u001b[0mresult\u001b[0m\u001b[0;34m\u001b[0m\u001b[0;34m\u001b[0m\u001b[0m\n",
            "\u001b[0;32m/usr/local/lib/python3.7/dist-packages/pandas/plotting/_matplotlib/core.py\u001b[0m in \u001b[0;36mgenerate\u001b[0;34m(self)\u001b[0m\n\u001b[1;32m    267\u001b[0m     \u001b[0;32mdef\u001b[0m \u001b[0mgenerate\u001b[0m\u001b[0;34m(\u001b[0m\u001b[0mself\u001b[0m\u001b[0;34m)\u001b[0m\u001b[0;34m:\u001b[0m\u001b[0;34m\u001b[0m\u001b[0;34m\u001b[0m\u001b[0m\n\u001b[1;32m    268\u001b[0m         \u001b[0mself\u001b[0m\u001b[0;34m.\u001b[0m\u001b[0m_args_adjust\u001b[0m\u001b[0;34m(\u001b[0m\u001b[0;34m)\u001b[0m\u001b[0;34m\u001b[0m\u001b[0;34m\u001b[0m\u001b[0m\n\u001b[0;32m--> 269\u001b[0;31m         \u001b[0mself\u001b[0m\u001b[0;34m.\u001b[0m\u001b[0m_compute_plot_data\u001b[0m\u001b[0;34m(\u001b[0m\u001b[0;34m)\u001b[0m\u001b[0;34m\u001b[0m\u001b[0;34m\u001b[0m\u001b[0m\n\u001b[0m\u001b[1;32m    270\u001b[0m         \u001b[0mself\u001b[0m\u001b[0;34m.\u001b[0m\u001b[0m_setup_subplots\u001b[0m\u001b[0;34m(\u001b[0m\u001b[0;34m)\u001b[0m\u001b[0;34m\u001b[0m\u001b[0;34m\u001b[0m\u001b[0m\n\u001b[1;32m    271\u001b[0m         \u001b[0mself\u001b[0m\u001b[0;34m.\u001b[0m\u001b[0m_make_plot\u001b[0m\u001b[0;34m(\u001b[0m\u001b[0;34m)\u001b[0m\u001b[0;34m\u001b[0m\u001b[0;34m\u001b[0m\u001b[0m\n",
            "\u001b[0;32m/usr/local/lib/python3.7/dist-packages/pandas/plotting/_matplotlib/core.py\u001b[0m in \u001b[0;36m_compute_plot_data\u001b[0;34m(self)\u001b[0m\n\u001b[1;32m    416\u001b[0m         \u001b[0;31m# no non-numeric frames or series allowed\u001b[0m\u001b[0;34m\u001b[0m\u001b[0;34m\u001b[0m\u001b[0;34m\u001b[0m\u001b[0m\n\u001b[1;32m    417\u001b[0m         \u001b[0;32mif\u001b[0m \u001b[0mis_empty\u001b[0m\u001b[0;34m:\u001b[0m\u001b[0;34m\u001b[0m\u001b[0;34m\u001b[0m\u001b[0m\n\u001b[0;32m--> 418\u001b[0;31m             \u001b[0;32mraise\u001b[0m \u001b[0mTypeError\u001b[0m\u001b[0;34m(\u001b[0m\u001b[0;34m\"no numeric data to plot\"\u001b[0m\u001b[0;34m)\u001b[0m\u001b[0;34m\u001b[0m\u001b[0;34m\u001b[0m\u001b[0m\n\u001b[0m\u001b[1;32m    419\u001b[0m \u001b[0;34m\u001b[0m\u001b[0m\n\u001b[1;32m    420\u001b[0m         \u001b[0;31m# GH25587: cast ExtensionArray of pandas (IntegerArray, etc.) to\u001b[0m\u001b[0;34m\u001b[0m\u001b[0;34m\u001b[0m\u001b[0;34m\u001b[0m\u001b[0m\n",
            "\u001b[0;31mTypeError\u001b[0m: no numeric data to plot"
          ]
        }
      ]
    },
    {
      "cell_type": "markdown",
      "metadata": {
        "id": "zm5P7L4BhbZW"
      },
      "source": [
        "# Processing Data"
      ]
    },
    {
      "cell_type": "code",
      "metadata": {
        "colab": {
          "base_uri": "https://localhost:8080/",
          "height": 204
        },
        "id": "V2UEeSrof9Ab",
        "outputId": "83c7419c-014c-478e-b28f-3e408fdb5530"
      },
      "source": [
        "df = df.drop(columns='Year', axis=1)\n",
        "df.head()"
      ],
      "execution_count": null,
      "outputs": [
        {
          "output_type": "execute_result",
          "data": {
            "text/html": [
              "<div>\n",
              "<style scoped>\n",
              "    .dataframe tbody tr th:only-of-type {\n",
              "        vertical-align: middle;\n",
              "    }\n",
              "\n",
              "    .dataframe tbody tr th {\n",
              "        vertical-align: top;\n",
              "    }\n",
              "\n",
              "    .dataframe thead th {\n",
              "        text-align: right;\n",
              "    }\n",
              "</style>\n",
              "<table border=\"1\" class=\"dataframe\">\n",
              "  <thead>\n",
              "    <tr style=\"text-align: right;\">\n",
              "      <th></th>\n",
              "      <th>GDP</th>\n",
              "      <th>Unemployment</th>\n",
              "      <th>GDP_Zscore</th>\n",
              "      <th>GDP_MinMax</th>\n",
              "      <th>GDP_Robut</th>\n",
              "    </tr>\n",
              "  </thead>\n",
              "  <tbody>\n",
              "    <tr>\n",
              "      <th>1</th>\n",
              "      <td>27.847</td>\n",
              "      <td>no data</td>\n",
              "      <td>-0.602850</td>\n",
              "      <td>0.110515</td>\n",
              "      <td>-0.077320</td>\n",
              "    </tr>\n",
              "    <tr>\n",
              "      <th>2</th>\n",
              "      <td>13.875</td>\n",
              "      <td>no data</td>\n",
              "      <td>-0.825514</td>\n",
              "      <td>0.038875</td>\n",
              "      <td>-0.256597</td>\n",
              "    </tr>\n",
              "    <tr>\n",
              "      <th>3</th>\n",
              "      <td>18.405</td>\n",
              "      <td>no data</td>\n",
              "      <td>-0.753322</td>\n",
              "      <td>0.062102</td>\n",
              "      <td>-0.198472</td>\n",
              "    </tr>\n",
              "    <tr>\n",
              "      <th>4</th>\n",
              "      <td>27.726</td>\n",
              "      <td>no data</td>\n",
              "      <td>-0.604779</td>\n",
              "      <td>0.109894</td>\n",
              "      <td>-0.078873</td>\n",
              "    </tr>\n",
              "    <tr>\n",
              "      <th>5</th>\n",
              "      <td>48.177</td>\n",
              "      <td>no data</td>\n",
              "      <td>-0.278863</td>\n",
              "      <td>0.214753</td>\n",
              "      <td>0.183536</td>\n",
              "    </tr>\n",
              "  </tbody>\n",
              "</table>\n",
              "</div>"
            ],
            "text/plain": [
              "      GDP Unemployment  GDP_Zscore  GDP_MinMax  GDP_Robut\n",
              "1  27.847      no data   -0.602850    0.110515  -0.077320\n",
              "2  13.875      no data   -0.825514    0.038875  -0.256597\n",
              "3  18.405      no data   -0.753322    0.062102  -0.198472\n",
              "4  27.726      no data   -0.604779    0.109894  -0.078873\n",
              "5  48.177      no data   -0.278863    0.214753   0.183536"
            ]
          },
          "metadata": {
            "tags": []
          },
          "execution_count": 21
        }
      ]
    },
    {
      "cell_type": "code",
      "metadata": {
        "id": "C30ODHSPgs0a",
        "colab": {
          "base_uri": "https://localhost:8080/",
          "height": 514
        },
        "outputId": "aea27947-92f5-4309-9816-a74bb8e10d68"
      },
      "source": [
        "data.head(15)"
      ],
      "execution_count": null,
      "outputs": [
        {
          "output_type": "execute_result",
          "data": {
            "text/html": [
              "<div>\n",
              "<style scoped>\n",
              "    .dataframe tbody tr th:only-of-type {\n",
              "        vertical-align: middle;\n",
              "    }\n",
              "\n",
              "    .dataframe tbody tr th {\n",
              "        vertical-align: top;\n",
              "    }\n",
              "\n",
              "    .dataframe thead th {\n",
              "        text-align: right;\n",
              "    }\n",
              "</style>\n",
              "<table border=\"1\" class=\"dataframe\">\n",
              "  <thead>\n",
              "    <tr style=\"text-align: right;\">\n",
              "      <th></th>\n",
              "      <th>Year</th>\n",
              "      <th>GDP</th>\n",
              "      <th>Unemployment</th>\n",
              "      <th>GDP_Zscore</th>\n",
              "      <th>GDP_MinMax</th>\n",
              "      <th>GDP_Robut</th>\n",
              "    </tr>\n",
              "  </thead>\n",
              "  <tbody>\n",
              "    <tr>\n",
              "      <th>1</th>\n",
              "      <td>1980</td>\n",
              "      <td>27.847</td>\n",
              "      <td>NaN</td>\n",
              "      <td>-0.602850</td>\n",
              "      <td>0.110515</td>\n",
              "      <td>-0.077320</td>\n",
              "    </tr>\n",
              "    <tr>\n",
              "      <th>2</th>\n",
              "      <td>1981</td>\n",
              "      <td>13.875</td>\n",
              "      <td>NaN</td>\n",
              "      <td>-0.825514</td>\n",
              "      <td>0.038875</td>\n",
              "      <td>-0.256597</td>\n",
              "    </tr>\n",
              "    <tr>\n",
              "      <th>3</th>\n",
              "      <td>1982</td>\n",
              "      <td>18.405</td>\n",
              "      <td>NaN</td>\n",
              "      <td>-0.753322</td>\n",
              "      <td>0.062102</td>\n",
              "      <td>-0.198472</td>\n",
              "    </tr>\n",
              "    <tr>\n",
              "      <th>4</th>\n",
              "      <td>1983</td>\n",
              "      <td>27.726</td>\n",
              "      <td>NaN</td>\n",
              "      <td>-0.604779</td>\n",
              "      <td>0.109894</td>\n",
              "      <td>-0.078873</td>\n",
              "    </tr>\n",
              "    <tr>\n",
              "      <th>5</th>\n",
              "      <td>1984</td>\n",
              "      <td>48.177</td>\n",
              "      <td>NaN</td>\n",
              "      <td>-0.278863</td>\n",
              "      <td>0.214753</td>\n",
              "      <td>0.183536</td>\n",
              "    </tr>\n",
              "    <tr>\n",
              "      <th>6</th>\n",
              "      <td>1985</td>\n",
              "      <td>14.999</td>\n",
              "      <td>NaN</td>\n",
              "      <td>-0.807601</td>\n",
              "      <td>0.044639</td>\n",
              "      <td>-0.242175</td>\n",
              "    </tr>\n",
              "    <tr>\n",
              "      <th>7</th>\n",
              "      <td>1986</td>\n",
              "      <td>33.873</td>\n",
              "      <td>NaN</td>\n",
              "      <td>-0.506817</td>\n",
              "      <td>0.141412</td>\n",
              "      <td>0.000000</td>\n",
              "    </tr>\n",
              "    <tr>\n",
              "      <th>8</th>\n",
              "      <td>1987</td>\n",
              "      <td>42.045</td>\n",
              "      <td>NaN</td>\n",
              "      <td>-0.376585</td>\n",
              "      <td>0.183313</td>\n",
              "      <td>0.104856</td>\n",
              "    </tr>\n",
              "    <tr>\n",
              "      <th>9</th>\n",
              "      <td>1988</td>\n",
              "      <td>23.234</td>\n",
              "      <td>NaN</td>\n",
              "      <td>-0.676365</td>\n",
              "      <td>0.086862</td>\n",
              "      <td>-0.136510</td>\n",
              "    </tr>\n",
              "    <tr>\n",
              "      <th>10</th>\n",
              "      <td>1989</td>\n",
              "      <td>6.293</td>\n",
              "      <td>NaN</td>\n",
              "      <td>-0.946344</td>\n",
              "      <td>0.000000</td>\n",
              "      <td>-0.353882</td>\n",
              "    </tr>\n",
              "    <tr>\n",
              "      <th>11</th>\n",
              "      <td>1990</td>\n",
              "      <td>6.472</td>\n",
              "      <td>12.3</td>\n",
              "      <td>-0.943491</td>\n",
              "      <td>0.000918</td>\n",
              "      <td>-0.351586</td>\n",
              "    </tr>\n",
              "    <tr>\n",
              "      <th>12</th>\n",
              "      <td>1991</td>\n",
              "      <td>7.642</td>\n",
              "      <td>10.4</td>\n",
              "      <td>-0.924845</td>\n",
              "      <td>0.006917</td>\n",
              "      <td>-0.336573</td>\n",
              "    </tr>\n",
              "    <tr>\n",
              "      <th>13</th>\n",
              "      <td>1992</td>\n",
              "      <td>9.867</td>\n",
              "      <td>11.0</td>\n",
              "      <td>-0.889387</td>\n",
              "      <td>0.018325</td>\n",
              "      <td>-0.308024</td>\n",
              "    </tr>\n",
              "    <tr>\n",
              "      <th>14</th>\n",
              "      <td>1993</td>\n",
              "      <td>13.181</td>\n",
              "      <td>10.6</td>\n",
              "      <td>-0.836574</td>\n",
              "      <td>0.035317</td>\n",
              "      <td>-0.265502</td>\n",
              "    </tr>\n",
              "    <tr>\n",
              "      <th>15</th>\n",
              "      <td>1994</td>\n",
              "      <td>16.312</td>\n",
              "      <td>10.3</td>\n",
              "      <td>-0.786677</td>\n",
              "      <td>0.051371</td>\n",
              "      <td>-0.225327</td>\n",
              "    </tr>\n",
              "  </tbody>\n",
              "</table>\n",
              "</div>"
            ],
            "text/plain": [
              "    Year     GDP  Unemployment  GDP_Zscore  GDP_MinMax  GDP_Robut\n",
              "1   1980  27.847           NaN   -0.602850    0.110515  -0.077320\n",
              "2   1981  13.875           NaN   -0.825514    0.038875  -0.256597\n",
              "3   1982  18.405           NaN   -0.753322    0.062102  -0.198472\n",
              "4   1983  27.726           NaN   -0.604779    0.109894  -0.078873\n",
              "5   1984  48.177           NaN   -0.278863    0.214753   0.183536\n",
              "6   1985  14.999           NaN   -0.807601    0.044639  -0.242175\n",
              "7   1986  33.873           NaN   -0.506817    0.141412   0.000000\n",
              "8   1987  42.045           NaN   -0.376585    0.183313   0.104856\n",
              "9   1988  23.234           NaN   -0.676365    0.086862  -0.136510\n",
              "10  1989   6.293           NaN   -0.946344    0.000000  -0.353882\n",
              "11  1990   6.472          12.3   -0.943491    0.000918  -0.351586\n",
              "12  1991   7.642          10.4   -0.924845    0.006917  -0.336573\n",
              "13  1992   9.867          11.0   -0.889387    0.018325  -0.308024\n",
              "14  1993  13.181          10.6   -0.836574    0.035317  -0.265502\n",
              "15  1994  16.312          10.3   -0.786677    0.051371  -0.225327"
            ]
          },
          "metadata": {
            "tags": []
          },
          "execution_count": 23
        }
      ]
    },
    {
      "cell_type": "code",
      "metadata": {
        "id": "NLtt9ZdFg0Ia"
      },
      "source": [
        "train = data[data['Unemployment'].notnull()]\n",
        "test = data[data['Unemployment'].isnull()]"
      ],
      "execution_count": null,
      "outputs": []
    },
    {
      "cell_type": "code",
      "metadata": {
        "colab": {
          "base_uri": "https://localhost:8080/"
        },
        "id": "YxbEsYfHhJIs",
        "outputId": "e9cb0a2f-67d5-4af3-9392-32bd57f70165"
      },
      "source": [
        "print(train.head())"
      ],
      "execution_count": null,
      "outputs": [
        {
          "output_type": "stream",
          "text": [
            "    Year     GDP  Unemployment  GDP_Zscore  GDP_MinMax  GDP_Robut\n",
            "11  1990   6.472          12.3   -0.943491    0.000918  -0.351586\n",
            "12  1991   7.642          10.4   -0.924845    0.006917  -0.336573\n",
            "13  1992   9.867          11.0   -0.889387    0.018325  -0.308024\n",
            "14  1993  13.181          10.6   -0.836574    0.035317  -0.265502\n",
            "15  1994  16.312          10.3   -0.786677    0.051371  -0.225327\n"
          ],
          "name": "stdout"
        }
      ]
    },
    {
      "cell_type": "code",
      "metadata": {
        "colab": {
          "base_uri": "https://localhost:8080/"
        },
        "id": "B2DHZHXlhMPq",
        "outputId": "d3a3a340-546a-4b9b-b0df-b67d093c4dab"
      },
      "source": [
        "print(test.head())"
      ],
      "execution_count": null,
      "outputs": [
        {
          "output_type": "stream",
          "text": [
            "   Year     GDP  Unemployment  GDP_Zscore  GDP_MinMax  GDP_Robut\n",
            "1  1980  27.847           NaN   -0.602850    0.110515  -0.077320\n",
            "2  1981  13.875           NaN   -0.825514    0.038875  -0.256597\n",
            "3  1982  18.405           NaN   -0.753322    0.062102  -0.198472\n",
            "4  1983  27.726           NaN   -0.604779    0.109894  -0.078873\n",
            "5  1984  48.177           NaN   -0.278863    0.214753   0.183536\n"
          ],
          "name": "stdout"
        }
      ]
    },
    {
      "cell_type": "code",
      "metadata": {
        "colab": {
          "base_uri": "https://localhost:8080/"
        },
        "id": "p24JoWYtiA9u",
        "outputId": "c7cea284-206a-476c-9777-56173435e467"
      },
      "source": [
        "test = test.drop(columns='Unemployment', axis=1)\n",
        "print(test.head())"
      ],
      "execution_count": null,
      "outputs": [
        {
          "output_type": "stream",
          "text": [
            "   Year     GDP  GDP_Zscore  GDP_MinMax  GDP_Robut\n",
            "1  1980  27.847   -0.602850    0.110515  -0.077320\n",
            "2  1981  13.875   -0.825514    0.038875  -0.256597\n",
            "3  1982  18.405   -0.753322    0.062102  -0.198472\n",
            "4  1983  27.726   -0.604779    0.109894  -0.078873\n",
            "5  1984  48.177   -0.278863    0.214753   0.183536\n"
          ],
          "name": "stdout"
        }
      ]
    },
    {
      "cell_type": "markdown",
      "metadata": {
        "id": "9IrZXFRCh85_"
      },
      "source": [
        "# Modeling"
      ]
    },
    {
      "cell_type": "markdown",
      "metadata": {
        "id": "MmgOnP8viapi"
      },
      "source": [
        "    Vì dữ liệu có sự hạn chế về thông tin nên bài này chúng tôi sẽ dùng Cross-Validation-Data"
      ]
    },
    {
      "cell_type": "code",
      "metadata": {
        "colab": {
          "base_uri": "https://localhost:8080/"
        },
        "id": "HS-qaXK4h8d8",
        "outputId": "70f1733e-218b-47b4-955f-057f6a6e718e"
      },
      "source": [
        "print(train.shape, test.shape)"
      ],
      "execution_count": null,
      "outputs": [
        {
          "output_type": "stream",
          "text": [
            "(29, 6) (10, 5)\n"
          ],
          "name": "stdout"
        }
      ]
    },
    {
      "cell_type": "code",
      "metadata": {
        "id": "dWAX-h8Bq8ry"
      },
      "source": [
        "X = train.drop('Unemployment',axis=1)\n",
        "y = train['Unemployment']"
      ],
      "execution_count": null,
      "outputs": []
    },
    {
      "cell_type": "code",
      "metadata": {
        "id": "npFeGgnOrENy"
      },
      "source": [
        "from sklearn.model_selection import train_test_split\n",
        "from sklearn.linear_model import LinearRegression\n",
        "from sklearn.model_selection import cross_val_score\n",
        "from sklearn.model_selection import KFold\n",
        "from sklearn.model_selection import GridSearchCV\n",
        "from sklearn.pipeline import make_pipeline\n",
        "from sklearn.preprocessing import PolynomialFeatures\n",
        "from sklearn.feature_selection import RFE\n",
        "from sklearn.metrics import r2_score"
      ],
      "execution_count": null,
      "outputs": []
    },
    {
      "cell_type": "code",
      "metadata": {
        "id": "TgwPZv9Or9sO"
      },
      "source": [
        "X_train, X_test, y_train, y_test = train_test_split(X, y, test_size=0.2, random_state=10)"
      ],
      "execution_count": null,
      "outputs": []
    },
    {
      "cell_type": "code",
      "metadata": {
        "id": "qry0ACMn3X2I"
      },
      "source": [
        "folds = KFold(n_splits = 5, shuffle = True, random_state = 100)"
      ],
      "execution_count": null,
      "outputs": []
    },
    {
      "cell_type": "code",
      "metadata": {
        "id": "A_Ma0_Zt3dwk"
      },
      "source": [
        "hyper_params = [{'n_features_to_select': list(range(1, 4))}]"
      ],
      "execution_count": null,
      "outputs": []
    },
    {
      "cell_type": "markdown",
      "metadata": {
        "id": "LXVgRhkc3jif"
      },
      "source": [
        "    LinearRegression"
      ]
    },
    {
      "cell_type": "code",
      "metadata": {
        "id": "SkmZz9mG3jDz"
      },
      "source": [
        "lm = LinearRegression()\n",
        "lm.fit(X_train, y_train)\n",
        "rfe = RFE(lm)"
      ],
      "execution_count": null,
      "outputs": []
    },
    {
      "cell_type": "code",
      "metadata": {
        "id": "wsX2UUL43qmF"
      },
      "source": [
        "model_ln = GridSearchCV(estimator = rfe, \n",
        "                        param_grid = hyper_params, \n",
        "                        scoring= 'r2', \n",
        "                        cv = folds, \n",
        "                        verbose = 1,\n",
        "                        return_train_score=True)"
      ],
      "execution_count": null,
      "outputs": []
    },
    {
      "cell_type": "code",
      "metadata": {
        "id": "EdzlUleZ3vzV",
        "colab": {
          "base_uri": "https://localhost:8080/"
        },
        "outputId": "b5e216c0-5bc9-480c-b741-5e11d363e4c3"
      },
      "source": [
        "model_ln.fit(X_train, y_train)"
      ],
      "execution_count": null,
      "outputs": [
        {
          "output_type": "stream",
          "text": [
            "Fitting 5 folds for each of 3 candidates, totalling 15 fits\n"
          ],
          "name": "stdout"
        },
        {
          "output_type": "stream",
          "text": [
            "[Parallel(n_jobs=1)]: Using backend SequentialBackend with 1 concurrent workers.\n",
            "[Parallel(n_jobs=1)]: Done  15 out of  15 | elapsed:    0.2s finished\n"
          ],
          "name": "stderr"
        },
        {
          "output_type": "execute_result",
          "data": {
            "text/plain": [
              "GridSearchCV(cv=KFold(n_splits=5, random_state=100, shuffle=True),\n",
              "             error_score=nan,\n",
              "             estimator=RFE(estimator=LinearRegression(copy_X=True,\n",
              "                                                      fit_intercept=True,\n",
              "                                                      n_jobs=None,\n",
              "                                                      normalize=False),\n",
              "                           n_features_to_select=None, step=1, verbose=0),\n",
              "             iid='deprecated', n_jobs=None,\n",
              "             param_grid=[{'n_features_to_select': [1, 2, 3]}],\n",
              "             pre_dispatch='2*n_jobs', refit=True, return_train_score=True,\n",
              "             scoring='r2', verbose=1)"
            ]
          },
          "metadata": {
            "tags": []
          },
          "execution_count": 36
        }
      ]
    },
    {
      "cell_type": "code",
      "metadata": {
        "id": "gt1hkeHt4K9O",
        "colab": {
          "base_uri": "https://localhost:8080/"
        },
        "outputId": "851c6a90-1d17-4c28-d6b0-f846e618b51f"
      },
      "source": [
        "y_pred_ln = model_ln.predict(X_test)\n",
        "r2_ln = r2_score(y_test, y_pred_ln)\n",
        "r2_ln"
      ],
      "execution_count": null,
      "outputs": [
        {
          "output_type": "execute_result",
          "data": {
            "text/plain": [
              "0.6360654677989049"
            ]
          },
          "metadata": {
            "tags": []
          },
          "execution_count": 37
        }
      ]
    },
    {
      "cell_type": "markdown",
      "metadata": {
        "id": "Di4Cobxr4pZC"
      },
      "source": [
        "    RandomForestRegression"
      ]
    },
    {
      "cell_type": "code",
      "metadata": {
        "id": "fqFldkqV4sYs"
      },
      "source": [
        "from sklearn.ensemble import RandomForestRegressor\n",
        "\n",
        "regr = RandomForestRegressor(max_depth=4, random_state=0)"
      ],
      "execution_count": null,
      "outputs": []
    },
    {
      "cell_type": "code",
      "metadata": {
        "id": "9B8UZodO4-EE"
      },
      "source": [
        "model_regr = regr.fit(X_train, y_train)\n",
        "rfe = RFE(model_regr)"
      ],
      "execution_count": null,
      "outputs": []
    },
    {
      "cell_type": "code",
      "metadata": {
        "id": "cG24WmLJ5Hr7"
      },
      "source": [
        "model_regr = GridSearchCV(estimator = rfe, \n",
        "                        param_grid = hyper_params, \n",
        "                        scoring= 'r2', \n",
        "                        cv = folds, \n",
        "                        verbose = 1,\n",
        "                        return_train_score=True)"
      ],
      "execution_count": null,
      "outputs": []
    },
    {
      "cell_type": "code",
      "metadata": {
        "id": "9k-Mn9365aJ4",
        "colab": {
          "base_uri": "https://localhost:8080/"
        },
        "outputId": "59751a2c-5a59-4b01-a5f0-6b2974264115"
      },
      "source": [
        "model_regr.fit(X_train, y_train)"
      ],
      "execution_count": null,
      "outputs": [
        {
          "output_type": "stream",
          "text": [
            "Fitting 5 folds for each of 3 candidates, totalling 15 fits\n"
          ],
          "name": "stdout"
        },
        {
          "output_type": "stream",
          "text": [
            "[Parallel(n_jobs=1)]: Using backend SequentialBackend with 1 concurrent workers.\n",
            "[Parallel(n_jobs=1)]: Done  15 out of  15 | elapsed:    8.9s finished\n"
          ],
          "name": "stderr"
        },
        {
          "output_type": "execute_result",
          "data": {
            "text/plain": [
              "GridSearchCV(cv=KFold(n_splits=5, random_state=100, shuffle=True),\n",
              "             error_score=nan,\n",
              "             estimator=RFE(estimator=RandomForestRegressor(bootstrap=True,\n",
              "                                                           ccp_alpha=0.0,\n",
              "                                                           criterion='mse',\n",
              "                                                           max_depth=4,\n",
              "                                                           max_features='auto',\n",
              "                                                           max_leaf_nodes=None,\n",
              "                                                           max_samples=None,\n",
              "                                                           min_impurity_decrease=0.0,\n",
              "                                                           min_impurity_split=None,\n",
              "                                                           min_samples_leaf=1,\n",
              "                                                           min_samples_split=2,\n",
              "                                                           min_weight_fraction_leaf=0.0,\n",
              "                                                           n_estimators=100,\n",
              "                                                           n_jobs=None,\n",
              "                                                           oob_score=False,\n",
              "                                                           random_state=0,\n",
              "                                                           verbose=0,\n",
              "                                                           warm_start=False),\n",
              "                           n_features_to_select=None, step=1, verbose=0),\n",
              "             iid='deprecated', n_jobs=None,\n",
              "             param_grid=[{'n_features_to_select': [1, 2, 3]}],\n",
              "             pre_dispatch='2*n_jobs', refit=True, return_train_score=True,\n",
              "             scoring='r2', verbose=1)"
            ]
          },
          "metadata": {
            "tags": []
          },
          "execution_count": 41
        }
      ]
    },
    {
      "cell_type": "code",
      "metadata": {
        "id": "TzUyGGZR5kJd",
        "colab": {
          "base_uri": "https://localhost:8080/"
        },
        "outputId": "9c66d347-fcd7-41f0-b212-0d555ee67f88"
      },
      "source": [
        "y_pred_regr = model_regr.predict(X_test)\n",
        "r2_regr = r2_score(y_test, y_pred_ln)\n",
        "r2_regr"
      ],
      "execution_count": null,
      "outputs": [
        {
          "output_type": "execute_result",
          "data": {
            "text/plain": [
              "0.6360654677989049"
            ]
          },
          "metadata": {
            "tags": []
          },
          "execution_count": 42
        }
      ]
    },
    {
      "cell_type": "markdown",
      "metadata": {
        "id": "tQffZoCFjRzw"
      },
      "source": [
        "    XGBRegressor"
      ]
    },
    {
      "cell_type": "code",
      "metadata": {
        "id": "UGOH3eWxD279",
        "colab": {
          "base_uri": "https://localhost:8080/"
        },
        "outputId": "31ca06eb-3845-4ead-972d-4a7fc30a5a1d"
      },
      "source": [
        "from xgboost import XGBRegressor\n",
        "model_xgb = XGBRegressor()\n",
        "model_xgb.fit(X_train, y_train)"
      ],
      "execution_count": null,
      "outputs": [
        {
          "output_type": "stream",
          "text": [
            "[16:05:06] WARNING: /workspace/src/objective/regression_obj.cu:152: reg:linear is now deprecated in favor of reg:squarederror.\n"
          ],
          "name": "stdout"
        },
        {
          "output_type": "execute_result",
          "data": {
            "text/plain": [
              "XGBRegressor(base_score=0.5, booster='gbtree', colsample_bylevel=1,\n",
              "             colsample_bynode=1, colsample_bytree=1, gamma=0,\n",
              "             importance_type='gain', learning_rate=0.1, max_delta_step=0,\n",
              "             max_depth=3, min_child_weight=1, missing=None, n_estimators=100,\n",
              "             n_jobs=1, nthread=None, objective='reg:linear', random_state=0,\n",
              "             reg_alpha=0, reg_lambda=1, scale_pos_weight=1, seed=None,\n",
              "             silent=None, subsample=1, verbosity=1)"
            ]
          },
          "metadata": {
            "tags": []
          },
          "execution_count": 43
        }
      ]
    },
    {
      "cell_type": "code",
      "metadata": {
        "colab": {
          "base_uri": "https://localhost:8080/"
        },
        "id": "eZreQOT_juY5",
        "outputId": "b543c060-34db-4cf5-fc52-1517b47e0c6a"
      },
      "source": [
        "y_pred_xgb = model_xgb.predict(X_test)\n",
        "r2_xgb = r2_score(y_test, y_pred_xgb)\n",
        "r2_xgb"
      ],
      "execution_count": null,
      "outputs": [
        {
          "output_type": "execute_result",
          "data": {
            "text/plain": [
              "0.9746124256205663"
            ]
          },
          "metadata": {
            "tags": []
          },
          "execution_count": 44
        }
      ]
    },
    {
      "cell_type": "markdown",
      "metadata": {
        "id": "7f6pxL16mLnE"
      },
      "source": [
        "    Dự đoán trên tập test(điền no data)"
      ]
    },
    {
      "cell_type": "code",
      "metadata": {
        "id": "Z_4spNC_mRTj"
      },
      "source": [
        "preds_test = model_xgb.predict(test)"
      ],
      "execution_count": null,
      "outputs": []
    },
    {
      "cell_type": "code",
      "metadata": {
        "id": "lnMFVXgYmZ5U"
      },
      "source": [
        "# xuất kết quả ra file csv\n",
        "sub = pd.DataFrame(columns=[\"Year\",\"Unemployment rate\"])\n",
        "sub[\"Year\"] = year\n",
        "sub[\"Unemployment rate\"] = preds_test\n",
        "sub.to_csv(\"/content/TMDU/fill-nodata.csv\", index=False)"
      ],
      "execution_count": null,
      "outputs": []
    },
    {
      "cell_type": "code",
      "metadata": {
        "id": "Yk1SCKku1JyA"
      },
      "source": [
        ""
      ],
      "execution_count": null,
      "outputs": []
    }
  ]
}